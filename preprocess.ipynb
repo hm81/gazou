{
  "nbformat": 4,
  "nbformat_minor": 0,
  "metadata": {
    "colab": {
      "name": "preprocess.ipynb",
      "provenance": [],
      "mount_file_id": "1xnpCr1kDHPvvhg_Iq84JFF1P3p8EVX9Y",
      "authorship_tag": "ABX9TyOdnotY+M+49imLp21/ir5H",
      "include_colab_link": true
    },
    "kernelspec": {
      "name": "python3",
      "display_name": "Python 3"
    }
  },
  "cells": [
    {
      "cell_type": "markdown",
      "metadata": {
        "id": "view-in-github",
        "colab_type": "text"
      },
      "source": [
        "<a href=\"https://colab.research.google.com/github/Gw0496/gazoubunrui/blob/master/preprocess.ipynb\" target=\"_parent\"><img src=\"https://colab.research.google.com/assets/colab-badge.svg\" alt=\"Open In Colab\"/></a>"
      ]
    },
    {
      "cell_type": "code",
      "metadata": {
        "id": "aP-e3PQw0_aK",
        "colab_type": "code",
        "colab": {
          "base_uri": "https://localhost:8080/",
          "height": 123
        },
        "outputId": "33c792ee-9a3a-4e4a-a8a7-74402d6f5a69"
      },
      "source": [
        "import sys\n",
        "sys.path.append('/content/drive/My Drive/gazoubunrui')\n",
        "\n",
        "import ic_module as ic\n",
        "\n",
        "import importlib\n",
        "importlib.reload(ic)\n",
        "\n",
        "import os.path as op\n",
        "\n",
        "i = 0\n",
        "for filename in ic.FileNames :\n",
        "    # ディレクトリ名入力\n",
        "    while True :\n",
        "        dirname = input(\">>「\" + ic.ClassNames[i] + \"」の画像のあるディレクトリ ： \")\n",
        "        if op.isdir(dirname) :\n",
        "            break\n",
        "        print(\">> そのディレクトリは存在しません！\")\n",
        "\n",
        "    # 関数実行\n",
        "    ic.PreProcess(dirname, filename, var_amount=3)\n",
        "    i += 1"
      ],
      "execution_count": 4,
      "outputs": [
        {
          "output_type": "stream",
          "text": [
            ">>「akimoto」の画像のあるディレクトリ ： /content/drive/My Drive/gazoubunrui/face/akimoto\n",
            ">> /content/drive/My Drive/gazoubunrui/face/akimotoから68個のファイル読み込み成功\n",
            ">>「shiraishi」の画像のあるディレクトリ ： /content/drive/My Drive/gazoubunrui/face/nishino\n",
            ">> /content/drive/My Drive/gazoubunrui/face/nishinoから100個のファイル読み込み成功\n",
            ">>「nishino」の画像のあるディレクトリ ： /content/drive/My Drive/gazoubunrui/face/shhiraishi\n",
            ">> /content/drive/My Drive/gazoubunrui/face/shhiraishiから76個のファイル読み込み成功\n"
          ],
          "name": "stdout"
        }
      ]
    }
  ]
}
