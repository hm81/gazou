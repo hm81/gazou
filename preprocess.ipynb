{
  "nbformat": 4,
  "nbformat_minor": 0,
  "metadata": {
    "colab": {
      "name": "preprocess.ipynb",
      "provenance": [],
      "mount_file_id": "1W3hVQqe-kn6lH_v20eywsKUMDUVGQeEJ",
      "authorship_tag": "ABX9TyOYne5QMQDx6C3cnyYbbqvL",
      "include_colab_link": true
    },
    "kernelspec": {
      "name": "python3",
      "display_name": "Python 3"
    }
  },
  "cells": [
    {
      "cell_type": "markdown",
      "metadata": {
        "id": "view-in-github",
        "colab_type": "text"
      },
      "source": [
        "<a href=\"https://colab.research.google.com/github/hm81/gazou/blob/master/preprocess.ipynb\" target=\"_parent\"><img src=\"https://colab.research.google.com/assets/colab-badge.svg\" alt=\"Open In Colab\"/></a>"
      ]
    },
    {
      "cell_type": "code",
      "metadata": {
        "id": "TcKlo5unMw2h",
        "colab_type": "code",
        "colab": {
          "base_uri": "https://localhost:8080/",
          "height": 122
        },
        "outputId": "e0d1cf12-0398-4c69-a540-e44f20537a6a"
      },
      "source": [
        "import sys\n",
        "sys.path.append('/content/drive/My Drive/gazoubunrui')\n",
        "\n",
        "import ic_module as ic\n",
        "import os.path as op\n",
        "\n",
        "i = 0\n",
        "for filename in ic.FileNames :\n",
        "    # ディレクトリ名入力\n",
        "    while True :\n",
        "        dirname = input(\">>「\" + ic.ClassNames[i] + \"」の画像のあるディレクトリ ： \")\n",
        "        if op.isdir(dirname) :\n",
        "            break\n",
        "        print(\">> そのディレクトリは存在しません！\")\n",
        "\n",
        "    # 関数実行\n",
        "    ic.PreProcess(dirname, filename, var_amount=3)\n",
        "    i += 1"
      ],
      "execution_count": 4,
      "outputs": [
        {
          "output_type": "stream",
          "text": [
            ">>「Robert Downey jr」の画像のあるディレクトリ ： /content/drive/My Drive/gazoubunrui/face/Robert Downey jr\n",
            ">> /content/drive/My Drive/gazoubunrui/face/Robert Downey jrから80個のファイル読み込み成功\n",
            ">>「Chris Evans」の画像のあるディレクトリ ： /content/drive/My Drive/gazoubunrui/face/Chris Evans\n",
            ">> /content/drive/My Drive/gazoubunrui/face/Chris Evansから68個のファイル読み込み成功\n",
            ">>「Chris Hemsworth」の画像のあるディレクトリ ： /content/drive/My Drive/gazoubunrui/face/Chris Hemsworth\n",
            ">> /content/drive/My Drive/gazoubunrui/face/Chris Hemsworthから84個のファイル読み込み成功\n"
          ],
          "name": "stdout"
        }
      ]
    },
    {
      "cell_type": "code",
      "metadata": {
        "id": "17vECa-IT4Qd",
        "colab_type": "code",
        "colab": {}
      },
      "source": [
        ""
      ],
      "execution_count": null,
      "outputs": []
    }
  ]
}