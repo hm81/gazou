{
  "nbformat": 4,
  "nbformat_minor": 0,
  "metadata": {
    "colab": {
      "name": "face_detect.ipynb",
      "provenance": [],
      "mount_file_id": "17OV_ePSt_AglCdwG6GPPzFnDQ3HqhJh6",
      "authorship_tag": "ABX9TyOsyJtaj6w9ib/VSZtiYv0M",
      "include_colab_link": true
    },
    "kernelspec": {
      "name": "python3",
      "display_name": "Python 3"
    }
  },
  "cells": [
    {
      "cell_type": "markdown",
      "metadata": {
        "id": "view-in-github",
        "colab_type": "text"
      },
      "source": [
        "<a href=\"https://colab.research.google.com/github/hm81/gazou/blob/master/face_detect.ipynb\" target=\"_parent\"><img src=\"https://colab.research.google.com/assets/colab-badge.svg\" alt=\"Open In Colab\"/></a>"
      ]
    },
    {
      "cell_type": "code",
      "metadata": {
        "id": "G7CsMp6ScGlV",
        "colab_type": "code",
        "colab": {}
      },
      "source": [
        "%matplotlib inline\n",
        "\n",
        "\n",
        "import cv2\n",
        "import matplotlib.pyplot as plt\n",
        "import matplotlib.image as mpimg\n",
        "import sys\n",
        "from keras.preprocessing.image import array_to_img,img_to_array,load_img\n",
        "import numpy as np\n",
        "import os\n",
        "\n",
        "\n",
        "X_train=[]\n",
        "Y_train=[]\n",
        "\n",
        "X_test=[]\n",
        "Y_test=[]\n",
        "\n",
        "\n",
        "\n",
        "l=os.listdir(\"/content/drive/My Drive/gazoubunrui/original_data\")"
      ],
      "execution_count": 4,
      "outputs": []
    },
    {
      "cell_type": "markdown",
      "metadata": {
        "id": "LzMGA05rfIZV",
        "colab_type": "text"
      },
      "source": [
        ""
      ]
    },
    {
      "cell_type": "markdown",
      "metadata": {
        "id": "Mi2nb7TvfIRL",
        "colab_type": "text"
      },
      "source": [
        ""
      ]
    },
    {
      "cell_type": "code",
      "metadata": {
        "id": "xIPDFsT7cM-W",
        "colab_type": "code",
        "colab": {
          "base_uri": "https://localhost:8080/",
          "height": 1000
        },
        "outputId": "dbeed7d9-160d-4a92-aa9e-69d57ad015ec"
      },
      "source": [
        "cascade_path = \"/content/drive/My Drive/gazoubunrui/haarcascade_frontalface_alt.xml\"\n",
        "\n",
        "MyDrive = \"/content/drive/My Drive/gazoubunrui\"\n",
        "\n",
        "for i in l:\n",
        "    result_dir=i.split(\".\")[0]\n",
        "    os.makedirs(MyDrive + \"/face/\" + result_dir, exist_ok = True)\n",
        "\n",
        "    m=os.listdir(MyDrive + \"/original_data/\" + i )\n",
        "    n=0\n",
        "    for target_file in m:\n",
        "        origin_image=(MyDrive + \"/original_data/\"+i+\"/\"+target_file)\n",
        "        print(origin_image)\n",
        "        cascade=cv2.CascadeClassifier(cascade_path)\n",
        "        image=cv2.imread(origin_image)\n",
        "\n",
        "        image=cv2.cvtColor(image,cv2.COLOR_BGR2RGB)\n",
        "        gray=cv2.cvtColor(image,cv2.COLOR_RGB2GRAY)\n",
        "\n",
        "        facerect=cascade.detectMultiScale(gray,scaleFactor=1.1,minNeighbors=1,minSize=(10,10))\n",
        "\n",
        "        for x,y,w,h in facerect:\n",
        "            face=gray[y:y+h,x:x+w]\n",
        "            face=cv2.resize(face,(128,128))\n",
        "            save_path = MyDrive + \"/face/\"+result_dir+\"/image_\"+str(n)+\".jpg\"\n",
        "            cv2.imwrite(save_path,face)\n",
        "            n=n+1\n",
        "            face=cv2.flip(face,1)\n",
        "            save_path = MyDrive + \"/face/\"+result_dir+\"/image_\"+str(n)+\".jpg\"\n",
        "            cv2.imwrite(save_path,face)\n",
        "            n=n+1\n",
        "            face=cv2.blur(face,(10,10))\n",
        "            save_path = MyDrive + \"/face/\"+result_dir+\"/image_\"+str(n)+\".jpg\"\n",
        "            cv2.imwrite(save_path,face)\n",
        "            n=n+1\n",
        "            face=cv2.blur(cv2.flip(face,1),(10,10))\n",
        "            save_path=MyDrive + \"/face/\"+result_dir+\"/image_\"+str(n)+\".jpg\"\n",
        "            cv2.imwrite(save_path,face)\n",
        "            n=n+1"
      ],
      "execution_count": 9,
      "outputs": [
        {
          "output_type": "stream",
          "text": [
            "/content/drive/My Drive/gazoubunrui/original_data/Chris Hemsworth/000001.jpg\n",
            "/content/drive/My Drive/gazoubunrui/original_data/Chris Hemsworth/000003.jpg\n",
            "/content/drive/My Drive/gazoubunrui/original_data/Chris Hemsworth/000004.jpg\n",
            "/content/drive/My Drive/gazoubunrui/original_data/Chris Hemsworth/000005.jpg\n",
            "/content/drive/My Drive/gazoubunrui/original_data/Chris Hemsworth/000006.jpg\n",
            "/content/drive/My Drive/gazoubunrui/original_data/Chris Hemsworth/000007.jpg\n",
            "/content/drive/My Drive/gazoubunrui/original_data/Chris Hemsworth/000008.jpg\n",
            "/content/drive/My Drive/gazoubunrui/original_data/Chris Hemsworth/000009.jpg\n",
            "/content/drive/My Drive/gazoubunrui/original_data/Chris Hemsworth/000010.jpg\n",
            "/content/drive/My Drive/gazoubunrui/original_data/Chris Hemsworth/000011.jpg\n",
            "/content/drive/My Drive/gazoubunrui/original_data/Chris Hemsworth/000012.jpg\n",
            "/content/drive/My Drive/gazoubunrui/original_data/Chris Hemsworth/000014.jpg\n",
            "/content/drive/My Drive/gazoubunrui/original_data/Chris Hemsworth/000015.jpg\n",
            "/content/drive/My Drive/gazoubunrui/original_data/Chris Hemsworth/000017.jpg\n",
            "/content/drive/My Drive/gazoubunrui/original_data/Chris Hemsworth/000018.jpg\n",
            "/content/drive/My Drive/gazoubunrui/original_data/Chris Hemsworth/000019.jpg\n",
            "/content/drive/My Drive/gazoubunrui/original_data/Chris Hemsworth/000020.jpg\n",
            "/content/drive/My Drive/gazoubunrui/original_data/Chris Evans/000002.jpg\n",
            "/content/drive/My Drive/gazoubunrui/original_data/Chris Evans/000003.jpg\n",
            "/content/drive/My Drive/gazoubunrui/original_data/Chris Evans/000004.jpg\n",
            "/content/drive/My Drive/gazoubunrui/original_data/Chris Evans/000005.jpg\n",
            "/content/drive/My Drive/gazoubunrui/original_data/Chris Evans/000006.jpg\n",
            "/content/drive/My Drive/gazoubunrui/original_data/Chris Evans/000007.jpg\n",
            "/content/drive/My Drive/gazoubunrui/original_data/Chris Evans/000008.jpg\n",
            "/content/drive/My Drive/gazoubunrui/original_data/Chris Evans/000009.jpg\n",
            "/content/drive/My Drive/gazoubunrui/original_data/Chris Evans/000010.jpg\n",
            "/content/drive/My Drive/gazoubunrui/original_data/Chris Evans/000011.jpg\n",
            "/content/drive/My Drive/gazoubunrui/original_data/Chris Evans/000014.jpg\n",
            "/content/drive/My Drive/gazoubunrui/original_data/Chris Evans/000015.jpg\n",
            "/content/drive/My Drive/gazoubunrui/original_data/Chris Evans/000016.jpg\n",
            "/content/drive/My Drive/gazoubunrui/original_data/Chris Evans/000017.jpg\n",
            "/content/drive/My Drive/gazoubunrui/original_data/Chris Evans/000018.jpg\n",
            "/content/drive/My Drive/gazoubunrui/original_data/Chris Evans/000019.jpg\n",
            "/content/drive/My Drive/gazoubunrui/original_data/Chris Evans/000020.jpg\n",
            "/content/drive/My Drive/gazoubunrui/original_data/Robert Downey jr/000001.jpg\n",
            "/content/drive/My Drive/gazoubunrui/original_data/Robert Downey jr/000002.jpg\n",
            "/content/drive/My Drive/gazoubunrui/original_data/Robert Downey jr/000003.jpg\n",
            "/content/drive/My Drive/gazoubunrui/original_data/Robert Downey jr/000004.jpg\n",
            "/content/drive/My Drive/gazoubunrui/original_data/Robert Downey jr/000005.jpg\n",
            "/content/drive/My Drive/gazoubunrui/original_data/Robert Downey jr/000006.jpg\n",
            "/content/drive/My Drive/gazoubunrui/original_data/Robert Downey jr/000008.jpg\n",
            "/content/drive/My Drive/gazoubunrui/original_data/Robert Downey jr/000009.jpg\n",
            "/content/drive/My Drive/gazoubunrui/original_data/Robert Downey jr/000010.jpg\n",
            "/content/drive/My Drive/gazoubunrui/original_data/Robert Downey jr/000011.jpg\n",
            "/content/drive/My Drive/gazoubunrui/original_data/Robert Downey jr/000013.jpg\n",
            "/content/drive/My Drive/gazoubunrui/original_data/Robert Downey jr/000014.jpg\n",
            "/content/drive/My Drive/gazoubunrui/original_data/Robert Downey jr/000015.jpg\n",
            "/content/drive/My Drive/gazoubunrui/original_data/Robert Downey jr/000016.jpg\n",
            "/content/drive/My Drive/gazoubunrui/original_data/Robert Downey jr/000017.jpg\n",
            "/content/drive/My Drive/gazoubunrui/original_data/Robert Downey jr/000018.jpg\n",
            "/content/drive/My Drive/gazoubunrui/original_data/Robert Downey jr/000019.jpg\n",
            "/content/drive/My Drive/gazoubunrui/original_data/Robert Downey jr/000020.jpg\n",
            "/content/drive/My Drive/gazoubunrui/original_data/test/000007.jpg\n",
            "/content/drive/My Drive/gazoubunrui/original_data/test/000012.jpg\n",
            "/content/drive/My Drive/gazoubunrui/original_data/test/000001.jpg\n",
            "/content/drive/My Drive/gazoubunrui/original_data/test/000013.jpg\n",
            "/content/drive/My Drive/gazoubunrui/original_data/test/000002.jpg\n",
            "/content/drive/My Drive/gazoubunrui/original_data/test/000016.jpg\n"
          ],
          "name": "stdout"
        }
      ]
    },
    {
      "cell_type": "code",
      "metadata": {
        "id": "1jAFX5SDfFWu",
        "colab_type": "code",
        "colab": {}
      },
      "source": [
        ""
      ],
      "execution_count": null,
      "outputs": []
    }
  ]
}