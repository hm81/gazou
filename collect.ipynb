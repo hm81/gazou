{
  "nbformat": 4,
  "nbformat_minor": 0,
  "metadata": {
    "colab": {
      "name": "collect.ipynb",
      "provenance": [],
      "mount_file_id": "1ywACct7_nMNAmIGQwy9mEfwLmV_nktC4",
      "authorship_tag": "ABX9TyPWEwOatDnt8yI2jOPoLURS",
      "include_colab_link": true
    },
    "kernelspec": {
      "name": "python3",
      "display_name": "Python 3"
    }
  },
  "cells": [
    {
      "cell_type": "markdown",
      "metadata": {
        "id": "view-in-github",
        "colab_type": "text"
      },
      "source": [
        "<a href=\"https://colab.research.google.com/github/hm81/gazou/blob/master/collect.ipynb\" target=\"_parent\"><img src=\"https://colab.research.google.com/assets/colab-badge.svg\" alt=\"Open In Colab\"/></a>"
      ]
    },
    {
      "cell_type": "code",
      "metadata": {
        "id": "e3nzZwdqJFnE",
        "colab_type": "code",
        "colab": {
          "base_uri": "https://localhost:8080/",
          "height": 264
        },
        "outputId": "cfe7bf1a-5fdb-440f-9949-3a104f73f8b3"
      },
      "source": [
        "!pip install icrawler"
      ],
      "execution_count": null,
      "outputs": [
        {
          "output_type": "stream",
          "text": [
            "Collecting icrawler\n",
            "  Downloading https://files.pythonhosted.org/packages/89/de/71d154b1fe181ee1a4afae5d10451856ef4689b3fd72d93cc55f31d2886a/icrawler-0.6.3-py2.py3-none-any.whl\n",
            "Requirement already satisfied: requests>=2.9.1 in /usr/local/lib/python3.6/dist-packages (from icrawler) (2.23.0)\n",
            "Requirement already satisfied: six>=1.10.0 in /usr/local/lib/python3.6/dist-packages (from icrawler) (1.15.0)\n",
            "Requirement already satisfied: lxml in /usr/local/lib/python3.6/dist-packages (from icrawler) (4.2.6)\n",
            "Requirement already satisfied: beautifulsoup4>=4.4.1 in /usr/local/lib/python3.6/dist-packages (from icrawler) (4.6.3)\n",
            "Requirement already satisfied: Pillow in /usr/local/lib/python3.6/dist-packages (from icrawler) (7.0.0)\n",
            "Requirement already satisfied: urllib3!=1.25.0,!=1.25.1,<1.26,>=1.21.1 in /usr/local/lib/python3.6/dist-packages (from requests>=2.9.1->icrawler) (1.24.3)\n",
            "Requirement already satisfied: certifi>=2017.4.17 in /usr/local/lib/python3.6/dist-packages (from requests>=2.9.1->icrawler) (2020.6.20)\n",
            "Requirement already satisfied: chardet<4,>=3.0.2 in /usr/local/lib/python3.6/dist-packages (from requests>=2.9.1->icrawler) (3.0.4)\n",
            "Requirement already satisfied: idna<3,>=2.5 in /usr/local/lib/python3.6/dist-packages (from requests>=2.9.1->icrawler) (2.10)\n",
            "Installing collected packages: icrawler\n",
            "Successfully installed icrawler-0.6.3\n"
          ],
          "name": "stdout"
        }
      ]
    },
    {
      "cell_type": "code",
      "metadata": {
        "id": "F6_xkGvSXPnb",
        "colab_type": "code",
        "colab": {
          "base_uri": "https://localhost:8080/",
          "height": 52
        },
        "outputId": "d176ad4b-d888-424c-a23e-9e4a041c5d40"
      },
      "source": [
        "%cd drive/My Drive/gazoubunrui/original_data\n",
        "!pwd"
      ],
      "execution_count": null,
      "outputs": [
        {
          "output_type": "stream",
          "text": [
            "/content/drive/My Drive/gazoubunrui/original_data\n",
            "/content/drive/My Drive/gazoubunrui/original_data\n"
          ],
          "name": "stdout"
        }
      ]
    },
    {
      "cell_type": "code",
      "metadata": {
        "id": "4JrZAjUFXmu4",
        "colab_type": "code",
        "colab": {
          "base_uri": "https://localhost:8080/",
          "height": 1000
        },
        "outputId": "3a2e4632-429c-49c8-8912-1f12fd452dd4"
      },
      "source": [
        "# こんな感じで書く。枚数は、max_numで指定する。\n",
        "# from icrawler.builtin import BingImageCrawler\n",
        "# crawler = BingImageCrawler(storage={\"root_dir\": \"ここと\"})\n",
        "# crawler.crawl(keyword=\"ここを変えるt\", max_num=20)\n",
        "\n",
        "from icrawler.builtin import BingImageCrawler\n",
        "crawler = BingImageCrawler(storage={\"root_dir\": \"Robert Downey jr\"})\n",
        "crawler.crawl(keyword=\"Robert Downey jr\", max_num=20)\n",
        "\n",
        "from icrawler.builtin import BingImageCrawler\n",
        "crawler = BingImageCrawler(storage={\"root_dir\": \"Chris Evans\"})\n",
        "crawler.crawl(keyword=\"Chris Evans\", max_num=20)\n",
        "\n",
        "from icrawler.builtin import BingImageCrawler\n",
        "crawler = BingImageCrawler(storage={\"root_dir\": \"Chris Hemsworth\"})\n",
        "crawler.crawl(keyword=\"Chris Hemsworth\", max_num=20)"
      ],
      "execution_count": null,
      "outputs": [
        {
          "output_type": "stream",
          "text": [
            "2020-08-26 06:07:35,895 - INFO - icrawler.crawler - start crawling...\n",
            "2020-08-26 06:07:35,896 - INFO - icrawler.crawler - starting 1 feeder threads...\n",
            "2020-08-26 06:07:35,902 - INFO - feeder - thread feeder-001 exit\n",
            "2020-08-26 06:07:35,904 - INFO - icrawler.crawler - starting 1 parser threads...\n",
            "2020-08-26 06:07:35,909 - INFO - icrawler.crawler - starting 1 downloader threads...\n",
            "2020-08-26 06:07:36,261 - INFO - parser - parsing result page https://www.bing.com/images/async?q=robert downey jr&first=0\n",
            "2020-08-26 06:07:36,554 - INFO - downloader - image #1\thttps://www.cheatsheet.com/wp-content/uploads/2019/11/Robert-Downey-Jr-of-MCU-683x1024.jpg\n",
            "2020-08-26 06:07:37,054 - INFO - downloader - image #2\thttp://www.media2.hw-static.com/media/2019/05/robertdowneyjr._worldpremiere_waltdisneystudiosmotionpictures_avengersendgame_2019-1800x1200.jpg\n",
            "2020-08-26 06:07:37,206 - INFO - downloader - image #3\thttps://bodyartguru.com/wp-content/uploads/2019/03/Robert-Downey-Jr.jpg\n",
            "2020-08-26 06:07:37,373 - ERROR - downloader - Response status code 404, file https://upload.wikimedia.org/wikipedia/commons/thumb/9/94/Robert_Downey_Jr_2014_Comic_Con_%28cropped%29.jpg\n",
            "2020-08-26 06:07:37,601 - INFO - downloader - image #4\thttps://www.rollingstone.com/wp-content/uploads/2018/06/rs-182112-52823381.jpg\n",
            "2020-08-26 06:07:37,744 - INFO - downloader - image #5\thttps://www.animationmagazine.net/wordpress/wp-content/uploads/robert-downey-jr-667x1000.jpg\n",
            "2020-08-26 06:07:37,875 - ERROR - downloader - Response status code 404, file https://upload.wikimedia.org/wikipedia/commons/thumb/a/a2/Robert_Downey%2C_Jr._SDCC_2014_%28cropped%29.jpg\n",
            "2020-08-26 06:07:38,223 - INFO - downloader - image #6\thttps://vignette.wikia.nocookie.net/disney/images/a/a5/Robert_Downey_Jr.jpg\n",
            "2020-08-26 06:07:38,381 - INFO - downloader - image #7\thttps://www.indiewire.com/wp-content/uploads/2019/06/shutterstock_10216456vc.jpg\n",
            "2020-08-26 06:07:38,593 - INFO - downloader - image #8\thttps://www.cheatsheet.com/wp-content/uploads/2019/04/Robert-Downey-Jr.-682x1024.jpg\n",
            "2020-08-26 06:07:39,041 - INFO - downloader - image #9\thttp://www.thenerddaily.com/wp-content/uploads/2018/09/Robert-Downey-Jr.jpg\n",
            "2020-08-26 06:07:39,248 - INFO - downloader - image #10\thttps://www.cheatsheet.com/wp-content/uploads/2019/07/Robert-Downey-Jr.-1-1-682x1024.jpg\n",
            "2020-08-26 06:07:39,656 - INFO - downloader - image #11\thttps://ksassets.timeincuk.net/wp/uploads/sites/55/2019/05/GettyImages-1144499197.jpg\n",
            "2020-08-26 06:07:39,729 - INFO - downloader - image #12\thttps://www.cheatsheet.com/wp-content/uploads/2019/05/Robert-Downey-Jr.-3-1024x738.jpg\n",
            "2020-08-26 06:07:40,517 - INFO - downloader - image #13\thttps://secure-journal.hautehorlogerie.org/wp-content/uploads/2019/05/Robert-Downey-Jr.jpg\n",
            "2020-08-26 06:07:40,651 - INFO - downloader - image #14\thttps://media3.s-nbcnews.com/j/newscms/2020_04/3197266/200122-robert-downey-jr-cs-1104a_e69d78798cc661d446cbfa2ccb3bb9e8.fit-760w.jpg\n",
            "2020-08-26 06:07:40,848 - INFO - downloader - image #15\thttps://www.newdvdreleasedates.com/images/profiles/robert-downey-jr.-12.jpg\n",
            "2020-08-26 06:07:41,264 - INFO - downloader - image #16\thttps://secure-journal.hautehorlogerie.org/wp-content/uploads/2019/06/Robert-Downey-Jr-c.jpg\n",
            "2020-08-26 06:07:41,415 - INFO - downloader - image #17\thttps://gossipgist.com/uploads/27146/robert-downey-jr-farmweek.jpg\n",
            "2020-08-26 06:07:41,815 - INFO - downloader - image #18\thttps://www.thestatesman.com/wp-content/uploads/2019/04/robert-downey-jr.jpg\n",
            "2020-08-26 06:07:43,058 - INFO - downloader - image #19\thttps://images.tribuneindia.com/cms/gall_content/2018/3/2018_3$largeimg24_Saturday_2018_231252657.jpg\n",
            "2020-08-26 06:07:43,263 - INFO - downloader - image #20\thttps://d3avoj45mekucs.cloudfront.net/rojakdaily/media/jessica-chua/entertainment/2019/jun/rdj%20clean%20earth/main-rdj.jpg\n",
            "2020-08-26 06:07:43,723 - INFO - downloader - downloaded images reach max num, thread downloader-001 is ready to exit\n",
            "2020-08-26 06:07:43,725 - INFO - downloader - thread downloader-001 exit\n",
            "2020-08-26 06:07:43,824 - INFO - parser - downloaded image reached max num, thread parser-001 is ready to exit\n",
            "2020-08-26 06:07:43,825 - INFO - parser - thread parser-001 exit\n",
            "2020-08-26 06:07:43,923 - INFO - icrawler.crawler - Crawling task done!\n",
            "2020-08-26 06:07:43,940 - INFO - icrawler.crawler - start crawling...\n",
            "2020-08-26 06:07:43,941 - INFO - icrawler.crawler - starting 1 feeder threads...\n",
            "2020-08-26 06:07:43,948 - INFO - feeder - thread feeder-001 exit\n",
            "2020-08-26 06:07:43,949 - INFO - icrawler.crawler - starting 1 parser threads...\n",
            "2020-08-26 06:07:43,954 - INFO - icrawler.crawler - starting 1 downloader threads...\n",
            "2020-08-26 06:07:44,316 - INFO - parser - parsing result page https://www.bing.com/images/async?q=Chris Evans&first=0\n",
            "2020-08-26 06:07:44,495 - INFO - downloader - image #1\thttps://photos.laineygossip.com/articles/chris-evans-oscars-25feb19-01.jpg\n",
            "2020-08-26 06:07:44,701 - INFO - downloader - image #2\thttps://i.dailymail.co.uk/1s/2019/02/13/17/9777826-6701041-image-a-1_1550079976879.jpg\n",
            "2020-08-26 06:07:44,951 - INFO - downloader - image #3\thttps://arc-anglerfish-arc2-prod-bostonglobe.s3.amazonaws.com/public/ATI4PTWRNYI6RD63LQ5PCYCUIQ.jpg\n",
            "2020-08-26 06:07:45,190 - INFO - downloader - image #4\thttps://static.independent.co.uk/s3fs-public/thumbnails/image/2019/03/13/09/chris-evans.jpg\n",
            "2020-08-26 06:07:45,313 - INFO - downloader - image #5\thttps://upload.wikimedia.org/wikipedia/commons/2/2f/5_Dec._2016_CJCS_USO_Holiday_Tour_-_Incirlik_Air_Base_161205-D-PB383-044_%2831430825446%29_%28cropped%29_%28cropped%29.jpg\n",
            "2020-08-26 06:07:45,786 - INFO - downloader - image #6\thttp://starsreveal.com/wp-content/uploads/2019/04/chris-evans-2.jpg\n",
            "2020-08-26 06:07:45,840 - INFO - downloader - image #7\thttps://upload.wikimedia.org/wikipedia/commons/a/a6/Evans_in_2016.jpg\n",
            "2020-08-26 06:07:46,024 - INFO - downloader - image #8\thttps://www.usmagazine.com/wp-content/uploads/chris-evans-head-a3567f91-66fa-40aa-82a4-a72f432f5491.jpg\n",
            "2020-08-26 06:07:46,100 - ERROR - downloader - Exception caught when downloading file https://cdn2us.denofgeek.com/sites/denofgeekus/files/2019/01/evansc_headshot_web.jpg, error: HTTPSConnectionPool(host='cdn2us.denofgeek.com', port=443): Max retries exceeded with url: /sites/denofgeekus/files/2019/01/evansc_headshot_web.jpg (Caused by NewConnectionError('<urllib3.connection.VerifiedHTTPSConnection object at 0x7fdb39131198>: Failed to establish a new connection: [Errno -2] Name or service not known',)), remaining retry times: 2\n",
            "2020-08-26 06:07:46,106 - ERROR - downloader - Exception caught when downloading file https://cdn2us.denofgeek.com/sites/denofgeekus/files/2019/01/evansc_headshot_web.jpg, error: HTTPSConnectionPool(host='cdn2us.denofgeek.com', port=443): Max retries exceeded with url: /sites/denofgeekus/files/2019/01/evansc_headshot_web.jpg (Caused by NewConnectionError('<urllib3.connection.VerifiedHTTPSConnection object at 0x7fdb39129d30>: Failed to establish a new connection: [Errno -2] Name or service not known',)), remaining retry times: 1\n",
            "2020-08-26 06:07:46,110 - ERROR - downloader - Exception caught when downloading file https://cdn2us.denofgeek.com/sites/denofgeekus/files/2019/01/evansc_headshot_web.jpg, error: HTTPSConnectionPool(host='cdn2us.denofgeek.com', port=443): Max retries exceeded with url: /sites/denofgeekus/files/2019/01/evansc_headshot_web.jpg (Caused by NewConnectionError('<urllib3.connection.VerifiedHTTPSConnection object at 0x7fdb39129828>: Failed to establish a new connection: [Errno -2] Name or service not known',)), remaining retry times: 0\n",
            "2020-08-26 06:07:46,253 - INFO - downloader - image #9\thttps://ewedit.files.wordpress.com/2018/03/gettyimages-461241922.jpg\n",
            "2020-08-26 06:07:46,610 - INFO - downloader - image #10\thttps://media1.popsugar-assets.com/files/thumbor/cWSbX2QFVRMejFkDzUiE4Kckqz0/fit-in/728xorig/filters:format_auto-!!-:strip_icc-!!-/2019/02/24/147/n/44701584/c78060b5e1fa9f2e_GettyImages-1127187051/i/Chris-Evans-Oscars-2019.jpg\n",
            "2020-08-26 06:07:46,895 - INFO - downloader - image #11\thttps://pixel.nymag.com/imgs/fashion/daily/2015/04/23/23-chris-evans.w700.h700.jpg\n",
            "2020-08-26 06:07:46,965 - INFO - downloader - image #12\thttps://upload.wikimedia.org/wikipedia/commons/6/66/5_Dec._2016_CJCS_USO_Holiday_Tour_-_Incirlik_Air_Base_161205-D-PB383-044_%2831430825446%29_%28cropped%29.jpg\n",
            "2020-08-26 06:07:47,094 - INFO - downloader - image #13\thttps://cdn3.movieweb.com/i/article/jkNKxh4Li1r5jD4TuwAFkBrfL04DKr/798:50/Avengers-4-Chris-Evans-Wraps-Final-Mcu-Appearance.jpg\n",
            "2020-08-26 06:07:47,559 - INFO - downloader - image #14\thttps://www.cheatsheet.com/wp-content/uploads/2019/05/chris-evans-marvel-cinematic-universe-1024x757.jpg\n",
            "2020-08-26 06:07:47,747 - ERROR - downloader - Response status code 404, file https://upload.wikimedia.org/wikipedia/commons/thumb/2/25/Chris_Evans_SDCC_2014.jpg\n",
            "2020-08-26 06:07:47,912 - INFO - downloader - image #15\thttps://www.cheatsheet.com/wp-content/uploads/2019/04/chris-evans-captain-america-in-real-life-1024x681.jpg\n",
            "2020-08-26 06:07:48,879 - INFO - downloader - image #16\thttps://akns-images.eonline.com/eol_images/Entire_Site/2018019/rs_634x951-180119063216-634.chris-evans.11918.jpg\n",
            "2020-08-26 06:07:49,004 - INFO - downloader - image #17\thttps://pmcvariety.files.wordpress.com/2019/11/chris-evans-feat-image.jpg\n",
            "2020-08-26 06:07:49,162 - INFO - downloader - image #18\thttps://peopledotcom.files.wordpress.com/2017/09/sexiest-man-alive-eyes-1.jpg\n",
            "2020-08-26 06:07:49,289 - INFO - downloader - image #19\thttps://cdn.vox-cdn.com/thumbor/X28Clay7Pl048mAyt19F0xtrTRg=/0x0:1200x630/1200x800/filters:focal(504x219:696x411)/cdn.vox-cdn.com/uploads/chorus_image/image/63474163/gettyimages_1127186967_e1553723909735.0.jpg\n",
            "2020-08-26 06:07:49,462 - INFO - downloader - image #20\thttps://www.cheatsheet.com/wp-content/uploads/2019/04/Chris-Evans-7-680x1024.jpg\n",
            "2020-08-26 06:07:49,607 - INFO - downloader - downloaded images reach max num, thread downloader-001 is ready to exit\n",
            "2020-08-26 06:07:49,608 - INFO - downloader - thread downloader-001 exit\n",
            "2020-08-26 06:07:49,968 - INFO - icrawler.crawler - Crawling task done!\n",
            "2020-08-26 06:07:49,970 - INFO - icrawler.crawler - start crawling...\n",
            "2020-08-26 06:07:49,971 - INFO - icrawler.crawler - starting 1 feeder threads...\n",
            "2020-08-26 06:07:49,973 - INFO - feeder - thread feeder-001 exit\n",
            "2020-08-26 06:07:49,973 - INFO - icrawler.crawler - starting 1 parser threads...\n",
            "2020-08-26 06:07:49,977 - INFO - icrawler.crawler - starting 1 downloader threads...\n",
            "2020-08-26 06:07:50,302 - INFO - parser - parsing result page https://www.bing.com/images/async?q=Chris Hemsworth&first=0\n",
            "2020-08-26 06:07:50,474 - INFO - parser - downloaded image reached max num, thread parser-001 is ready to exit\n",
            "2020-08-26 06:07:50,478 - INFO - parser - thread parser-001 exit\n",
            "2020-08-26 06:07:50,490 - INFO - downloader - image #1\thttps://pmcdeadline2.files.wordpress.com/2018/07/chris-hemsworth.jpg\n",
            "2020-08-26 06:07:50,736 - INFO - downloader - image #2\thttps://www.etonline.com/sites/default/files/styles/max_1280x720/public/images/2019-05/1280_chris_hemsworth.jpg\n",
            "2020-08-26 06:07:51,037 - INFO - downloader - image #3\thttps://i.dmarge.com/2018/11/chris-hemsworth-haircuts-3-of-19-741x1100.jpg\n",
            "2020-08-26 06:07:51,316 - INFO - downloader - image #4\thttps://www.esquireme.com/sites/default/files/styles/full_img/public/images/2019/06/02/Chris-Hemsworth-least-favourite-roles-%281%29.jpg\n",
            "2020-08-26 06:07:51,598 - INFO - downloader - image #5\thttps://img.buzzfeed.com/buzzfeed-static/static/2019-06/13/9/asset/buzzfeed-prod-web-02/sub-buzz-29260-1560434363-1.jpg\n",
            "2020-08-26 06:07:52,006 - INFO - downloader - image #6\thttp://celebdonut.com/wp-content/uploads/2019/11/chris-hemsworth-attends-opening-ceremony-at-the-tokyo-comic-con-2019-in-tokyo-5.jpg\n",
            "2020-08-26 06:07:52,141 - ERROR - downloader - Response status code 404, file https://upload.wikimedia.org/wikipedia/commons/thumb/9/91/Chris_Hemsworth_by_Gage_Skidmore_2.jpg\n",
            "2020-08-26 06:07:52,249 - ERROR - downloader - Response status code 404, file https://upload.wikimedia.org/wikipedia/commons/thumb/4/4c/Chris_Hemsworth_by_Gage_Skidmore.jpg\n",
            "2020-08-26 06:07:52,574 - ERROR - downloader - Response status code 404, file https://upload.wikimedia.org/wikipedia/commons/thumb/e/e8/Chris_Hemsworth_by_Gage_Skidmore_2_%28cropped%29.jpg\n",
            "2020-08-26 06:07:52,784 - INFO - downloader - image #7\thttps://www.cheatsheet.com/wp-content/uploads/2019/06/chris-hemsworth-quits-acting-1024x694.jpg\n",
            "2020-08-26 06:07:52,963 - INFO - downloader - image #8\thttps://www.cheatsheet.com/wp-content/uploads/2019/07/chris-hemsworth-marvel-friends-1024x683.jpg\n",
            "2020-08-26 06:07:53,209 - INFO - downloader - image #9\thttps://media1.popsugar-assets.com/files/thumbor/jzUEKGWEtJm8EpHs_-fQskdYq8s/fit-in/1024x1024/filters:format_auto-!!-:strip_icc-!!-/2019/04/23/807/n/44344577/3a2e1de5a5fa4182_GettyImages-1141776249/i/Sexy-Chris-Hemsworth-Pictures-2019.jpg\n",
            "2020-08-26 06:07:53,796 - INFO - downloader - image #10\thttps://www.malemodelscene.net/wp-content/uploads/2018/08/chris-hemsworth-gq-01-10-620x787.jpg\n",
            "2020-08-26 06:07:53,951 - INFO - downloader - image #11\thttps://photos.laineygossip.com/articles/chris-hemsworth-london-11apr19-09.jpg\n",
            "2020-08-26 06:07:54,598 - INFO - downloader - image #12\thttp://peopleasia.ph/wp-content/uploads/2018/10/05-Chris-Hemsworth.jpg\n",
            "2020-08-26 06:07:56,372 - ERROR - downloader - Response status code 404, file https://www.london-globe.com/wp-content/uploads/2020/01/he-marched-straight-past-him-chris-hemsworth-was-snubbed-twice-by-leonardo-dicaprio-in-japan-says-hi_543618_.jpg\n",
            "2020-08-26 06:07:56,624 - INFO - downloader - image #13\thttps://static.fashionbeans.com/wp-content/uploads/2019/05/chrishemhair2.jpg\n",
            "2020-08-26 06:07:56,853 - INFO - downloader - image #14\thttps://imagevars.gulfnews.com/2019/06/10/190610-Chris-Hemsworth_16b4137ad53_large.jpg\n",
            "2020-08-26 06:07:57,000 - INFO - downloader - image #15\thttps://pmcvariety.files.wordpress.com/2019/05/chris-hemsworth-variety-cover-1000px.jpg\n",
            "2020-08-26 06:07:57,191 - INFO - downloader - image #16\thttps://i2.wp.com/metro.co.uk/wp-content/uploads/2019/05/SEI_61450417-e1559666455364.jpg\n",
            "2020-08-26 06:07:57,325 - INFO - downloader - image #17\thttp://photos.laineygossip.com/articles/chris-hemsworth-royale-08jun18-01.jpg\n",
            "2020-08-26 06:07:57,402 - INFO - downloader - image #18\thttp://photos.laineygossip.com/articles/chris-hemsworth-02mar18.jpg\n",
            "2020-08-26 06:07:57,503 - INFO - downloader - image #19\thttps://www.cheatsheet.com/wp-content/uploads/2019/12/Chris-Hemsworth-1.jpg\n",
            "2020-08-26 06:07:57,705 - INFO - downloader - image #20\thttps://media2.foxnews.com/BrightCove/694940094001/2018/03/02/694940094001_5744010115001_5743995431001-vs.jpg\n",
            "2020-08-26 06:07:58,125 - INFO - downloader - downloaded images reach max num, thread downloader-001 is ready to exit\n",
            "2020-08-26 06:07:58,126 - INFO - downloader - thread downloader-001 exit\n",
            "2020-08-26 06:07:58,994 - INFO - icrawler.crawler - Crawling task done!\n"
          ],
          "name": "stderr"
        }
      ]
    },
    {
      "cell_type": "code",
      "metadata": {
        "id": "6UZr8OLCYQZp",
        "colab_type": "code",
        "colab": {
          "base_uri": "https://localhost:8080/",
          "height": 754
        },
        "outputId": "1a553d16-3205-4afa-c069-112e59a8e7df"
      },
      "source": [
        "\n",
        "from icrawler.builtin import BingImageCrawler\n",
        "crawler = BingImageCrawler(storage={\"root_dir\": \"Christopher Hemsworth\"})\n",
        "crawler.crawl(keyword=\"Christopher Hemsworth\", max_num=20)"
      ],
      "execution_count": null,
      "outputs": [
        {
          "output_type": "stream",
          "text": [
            "2020-08-26 06:13:21,453 - INFO - icrawler.crawler - start crawling...\n",
            "2020-08-26 06:13:21,454 - INFO - icrawler.crawler - starting 1 feeder threads...\n",
            "2020-08-26 06:13:21,463 - INFO - feeder - thread feeder-001 exit\n",
            "2020-08-26 06:13:21,463 - INFO - icrawler.crawler - starting 1 parser threads...\n",
            "2020-08-26 06:13:21,471 - INFO - icrawler.crawler - starting 1 downloader threads...\n",
            "2020-08-26 06:13:21,886 - INFO - parser - parsing result page https://www.bing.com/images/async?q=Christopher Hemsworth&first=0\n",
            "2020-08-26 06:13:21,973 - ERROR - downloader - Response status code 404, file https://upload.wikimedia.org/wikipedia/commons/thumb/4/4c/Chris_Hemsworth_by_Gage_Skidmore.jpg\n",
            "2020-08-26 06:13:22,142 - INFO - downloader - image #1\thttps://pmcdeadline2.files.wordpress.com/2018/07/chris-hemsworth.jpg\n",
            "2020-08-26 06:13:22,274 - INFO - downloader - image #2\thttps://www.cheatsheet.com/wp-content/uploads/2019/07/chris-hemsworth-marvel-friends-1024x683.jpg\n",
            "2020-08-26 06:13:22,298 - ERROR - downloader - Response status code 404, file https://upload.wikimedia.org/wikipedia/commons/thumb/e/e8/Chris_Hemsworth_by_Gage_Skidmore_2_%28cropped%29.jpg\n",
            "2020-08-26 06:13:22,443 - INFO - downloader - image #3\thttps://www.biography.com/.image/t_share/MTU0ODUwMjQ0NjIwNzI0MDAx/chris-hemsworth-poses-during-a-photo-call-for-thor-ragnarok-on-october-15-2017-in-sydney-australia-photo-by-mark-metcalfe_getty-images-for-disney-square.jpg\n",
            "2020-08-26 06:13:22,572 - INFO - downloader - image #4\thttp://s1.ibtimes.com/sites/www.ibtimes.com/files/styles/full/public/2018/04/22/chris-hemsworth.jpg\n",
            "2020-08-26 06:13:22,678 - INFO - downloader - image #5\thttps://i2.wp.com/metro.co.uk/wp-content/uploads/2019/05/SEI_61450417-e1559666455364.jpg\n",
            "2020-08-26 06:13:27,824 - ERROR - downloader - Exception caught when downloading file http://assets.nydailynews.com/polopoly_fs/1.2308230.1438194068!/img/httpImage/image.jpg, error: HTTPConnectionPool(host='assets.nydailynews.com', port=80): Read timed out. (read timeout=5), remaining retry times: 2\n",
            "2020-08-26 06:13:32,982 - ERROR - downloader - Exception caught when downloading file http://assets.nydailynews.com/polopoly_fs/1.2308230.1438194068!/img/httpImage/image.jpg, error: HTTPConnectionPool(host='assets.nydailynews.com', port=80): Read timed out. (read timeout=5), remaining retry times: 1\n",
            "2020-08-26 06:13:38,140 - ERROR - downloader - Exception caught when downloading file http://assets.nydailynews.com/polopoly_fs/1.2308230.1438194068!/img/httpImage/image.jpg, error: HTTPConnectionPool(host='assets.nydailynews.com', port=80): Read timed out. (read timeout=5), remaining retry times: 0\n",
            "2020-08-26 06:13:38,158 - ERROR - downloader - Response status code 404, file https://upload.wikimedia.org/wikipedia/commons/thumb/9/91/Chris_Hemsworth_by_Gage_Skidmore_2.jpg\n",
            "2020-08-26 06:13:38,323 - ERROR - downloader - Response status code 404, file https://upload.wikimedia.org/wikipedia/commons/thumb/9/92/Chris_Hemsworth_SDCC_2014_%28cropped%29.jpg\n",
            "2020-08-26 06:13:38,393 - INFO - downloader - image #6\thttps://www.cheatsheet.com/wp-content/uploads/2019/02/Chris-Hemsworth-2.jpg\n",
            "2020-08-26 06:13:40,567 - INFO - downloader - image #7\thttps://www.newidea.com.au/media/58836/chris-hemsworth-mib-bali-conference.jpg\n",
            "2020-08-26 06:13:40,682 - INFO - downloader - image #8\thttps://www.gannett-cdn.com/presto/2019/08/12/USAT/4b620798-77e7-4d04-9923-f1771d4ebc0a-Chris_Hemsworth_x.jpg\n",
            "2020-08-26 06:13:41,449 - INFO - downloader - image #9\thttps://biographywiki.net/wp-content/uploads/chris-hemsworth-age-height-facts-girlfriend.jpg\n",
            "2020-08-26 06:13:41,767 - INFO - downloader - image #10\thttp://i.ebayimg.com/images/i/161362968996-0-1/s-l1000.jpg\n",
            "2020-08-26 06:13:41,926 - INFO - downloader - image #11\thttp://1.bp.blogspot.com/-mgaw4dCPZiw/UtU13bp3xwI/AAAAAAAANXY/7ScWkyynDDs/s1600/Chris_Hemsworth_Eyes.jpg\n",
            "2020-08-26 06:13:41,965 - INFO - downloader - image #12\thttps://www.cheatsheet.com/wp-content/uploads/2020/04/chris-hemsworth-4.jpg\n",
            "2020-08-26 06:13:42,570 - INFO - downloader - image #13\thttp://www.media2.hw-static.com/wp-content/uploads/57247646-1997x3000.jpg\n",
            "2020-08-26 06:13:42,850 - INFO - downloader - image #14\thttps://www.nme.com/wp-content/uploads/2020/01/chris-hemsworth-tourism-australia-preview-2019-don-arnold-wireimage-getty-1184286954@1400x1050.jpg\n",
            "2020-08-26 06:13:43,007 - INFO - downloader - image #15\thttps://oltnews.com/wp-content/uploads/2020/08/32301796-8657379-Super_dad_Australian_actor_Chris_Hemsworth_was_spotted_carriying-m-48_1598246005675.jpg\n",
            "2020-08-26 06:13:43,274 - INFO - downloader - image #16\thttps://www.esquireme.com/sites/default/files/images/2019/06/02/Chris-Hemsworth-least-favourite-roles-%281%29.jpg\n",
            "2020-08-26 06:13:44,378 - INFO - downloader - image #17\thttps://specials-images.forbesimg.com/imageserve/5d24fb0834a5c400084adc63/416x416.jpg\n",
            "2020-08-26 06:13:44,578 - INFO - downloader - image #18\thttps://media2.foxnews.com/BrightCove/694940094001/2018/03/02/694940094001_5744010115001_5743995431001-vs.jpg\n",
            "2020-08-26 06:13:44,636 - INFO - downloader - image #19\thttps://www.cheatsheet.com/wp-content/uploads/2020/08/chris-hemsworth-2-1200x800.jpg\n",
            "2020-08-26 06:13:45,016 - INFO - parser - no more page urls for thread parser-001 to parse\n",
            "2020-08-26 06:13:45,017 - INFO - parser - thread parser-001 exit\n",
            "2020-08-26 06:13:49,766 - ERROR - downloader - Exception caught when downloading file http://assets.nydailynews.com/polopoly_fs/1.2445904.1448408011!/img/httpImage/image.jpg, error: HTTPConnectionPool(host='assets.nydailynews.com', port=80): Read timed out. (read timeout=5), remaining retry times: 2\n",
            "2020-08-26 06:13:54,916 - ERROR - downloader - Exception caught when downloading file http://assets.nydailynews.com/polopoly_fs/1.2445904.1448408011!/img/httpImage/image.jpg, error: HTTPConnectionPool(host='assets.nydailynews.com', port=80): Read timed out. (read timeout=5), remaining retry times: 1\n",
            "2020-08-26 06:13:59,941 - ERROR - downloader - Exception caught when downloading file http://assets.nydailynews.com/polopoly_fs/1.2445904.1448408011!/img/httpImage/image.jpg, error: HTTPConnectionPool(host='assets.nydailynews.com', port=80): Read timed out. (read timeout=5), remaining retry times: 0\n",
            "2020-08-26 06:13:59,965 - INFO - downloader - image #20\thttps://www.cheatsheet.com/wp-content/uploads/2019/05/Chris-Hemsworth-1.jpg\n",
            "2020-08-26 06:14:04,973 - INFO - downloader - no more download task for thread downloader-001\n",
            "2020-08-26 06:14:04,975 - INFO - downloader - thread downloader-001 exit\n",
            "2020-08-26 06:14:05,525 - INFO - icrawler.crawler - Crawling task done!\n"
          ],
          "name": "stderr"
        }
      ]
    },
    {
      "cell_type": "code",
      "metadata": {
        "id": "ROKWJk0OZk1d",
        "colab_type": "code",
        "colab": {}
      },
      "source": [
        ""
      ],
      "execution_count": null,
      "outputs": []
    }
  ]
}